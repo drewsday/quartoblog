{
 "cells": [
  {
   "cell_type": "raw",
   "id": "4e0611a9-3d70-44ab-a78d-5dd53e669dcb",
   "metadata": {},
   "source": [
    "---\n",
    "title: \"Notes to Self for blog posting\"\n",
    "author: \"Andrew Morrison\"\n",
    "date: \"2023-8-7\"\n",
    "categories: [test]\n",
    "format: \n",
    "  html:\n",
    "    toc: true\n",
    "    code-fold: true\n",
    "---"
   ]
  },
  {
   "cell_type": "markdown",
   "id": "def2c272-664f-47fe-8402-fbb25f6f3421",
   "metadata": {},
   "source": [
    "# How to make a blog post\n",
    "\n",
    "These are note for future me to be able to post to this blog, in case I forget what I am doing.\n",
    "\n",
    "1. Start from the Terminal in /Users/amorriso/Documents/GitHub/quartoblog/posts\n",
    "1. Run jupyterlab: `python3 -m jupyter lab`\n",
    "1. Make a new directory for the new post. Change to that directory.\n",
    "1. Make a new notebook in the empty directory.\n",
    "1. The first cell must be in \"Raw\" format. Put the metadata there.\n",
    "1. Write the post in the jupyter notebook. Along the way you can preview the post by launching preview from a Terminal within jupyter lab: `quarto preview notebook.ipynb`\n",
    "1. Once the preview looks right when finished writing the post, go to Github Desktop.  Commit the changes and then push to origin. (You should be in the gh-pages branch, but generally you won't need to know that.)\n",
    "1. Wait 30-90 seconds for the page to be live on [Quartoblog](drewsday.github.io/quartoblog)."
   ]
  },
  {
   "cell_type": "code",
   "execution_count": null,
   "id": "00fc143e-53f2-41a5-a6f6-f18c2ebc9d91",
   "metadata": {},
   "outputs": [],
   "source": []
  }
 ],
 "metadata": {
  "kernelspec": {
   "display_name": "Python 3 (ipykernel)",
   "language": "python",
   "name": "python3"
  },
  "language_info": {
   "codemirror_mode": {
    "name": "ipython",
    "version": 3
   },
   "file_extension": ".py",
   "mimetype": "text/x-python",
   "name": "python",
   "nbconvert_exporter": "python",
   "pygments_lexer": "ipython3",
   "version": "3.9.13"
  }
 },
 "nbformat": 4,
 "nbformat_minor": 5
}
