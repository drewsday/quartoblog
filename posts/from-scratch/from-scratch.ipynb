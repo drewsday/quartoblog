{
 "cells": [
  {
   "cell_type": "raw",
   "id": "e2c829f8-bcb0-40a4-95a3-4c1ee66e8860",
   "metadata": {},
   "source": [
    "---\n",
    "title: \"Quarto Basics\"\n",
    "author: \"Andrew Morrison\"\n",
    "date: \"2023-1-29\"\n",
    "categories: [test]\n",
    "format: \n",
    "  html:\n",
    "    code-fold: true\n",
    "jupyter: python3\n",
    "---"
   ]
  },
  {
   "cell_type": "markdown",
   "id": "1f34bfff-f174-4217-88c3-9cefeed42f5d",
   "metadata": {},
   "source": [
    "## Can I make a post to the gh-pages blog from scratch?"
   ]
  },
  {
   "cell_type": "markdown",
   "id": "9abc32e0-fbdb-4028-8cfd-88c4dba7f1b9",
   "metadata": {},
   "source": [
    "This is really a test as to whether or not I ended up setting up the blog with gh-pages correctly."
   ]
  },
  {
   "cell_type": "code",
   "execution_count": null,
   "id": "d7e57391-1cc9-466c-a192-857ea5150de3",
   "metadata": {},
   "outputs": [],
   "source": []
  }
 ],
 "metadata": {
  "kernelspec": {
   "display_name": "Python 3 (ipykernel)",
   "language": "python",
   "name": "python3"
  },
  "language_info": {
   "codemirror_mode": {
    "name": "ipython",
    "version": 3
   },
   "file_extension": ".py",
   "mimetype": "text/x-python",
   "name": "python",
   "nbconvert_exporter": "python",
   "pygments_lexer": "ipython3",
   "version": "3.9.13"
  }
 },
 "nbformat": 4,
 "nbformat_minor": 5
}
