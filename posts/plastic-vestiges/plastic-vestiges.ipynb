{
 "cells": [
  {
   "cell_type": "raw",
   "id": "62a9fa94-95e2-408e-b955-759542fd998e",
   "metadata": {},
   "source": [
    "---\n",
    "title: \"Plastic Vistiges\"\n",
    "author: \"Andrew Morrison\"\n",
    "date: \"2023-8-9\"\n",
    "draft: true\n",
    "categories: [learning]\n",
    "format: \n",
    "  html:\n",
    "    toc: true\n",
    "    code-fold: true\n",
    "---"
   ]
  },
  {
   "cell_type": "markdown",
   "id": "c0e0ad7d-ddea-4028-ba32-2ae0037f5fba",
   "metadata": {},
   "source": [
    "# Coming back to old posts\n",
    "\n",
    "For most of the time that Twitter had favorites/likes/bookmarks, I would save them offline whenever possible. I found it easier to search for them off Twitter than trying to go back through the list of posts I had marked.\n",
    "\n",
    "There was a post that I found which really stuck with me. I think the tweet has been deleted, and the link to the blog post is also dead. But, through the magic of the Internet Archive, I was able to find an archived copy of the page, which is mostly still readable.\n",
    "\n",
    "Here's the list [as written by Troy Miller of the Iowa BIG School back in 2017](https://web.archive.org/web/20160722202931/https://iowabig.org/BIG_WP/?p=1263}):\n",
    "\n",
    "1. Bells every 50 minutes\n",
    "1. Separating students by disciplines, as if math and science aren’t related\n",
    "1. Separating students by age\n",
    "1. ***Contrived speeches and writings for fake audiences***\n",
    "1. ***Cramming short-term memory and regurgitating arbitrary content***\n",
    "1. ***Grades with no real outcomes***\n",
    "1. Cloisters of pre-adults feeding off immature groupthink\n",
    "1. Content delivery via lecture after lecture by teacher-centric teachers\n",
    "1. ***Luddite methods (hand-solving equations) when real world tools exist (i.e. Wolfram Alpha)***\n",
    "1. Salary schedules with no relation to talent\n",
    "\n",
    "I added emphasis to items 4-6 and 9 because those are the ones that I mentally keep coming back to all the time.\n",
    "\n",
    "I definitely think items 4, 6 and 9 are interrelated and especially relevant to college classes. Why are most assignments in our classes intended only for an audience of one person, the professor?  We should be looking for opportunties to make assignments (and assessment of assignments) be more applicable outside of the classroom.\n",
    "\n",
    "As for item 5, I think that the field of cognitive psychology has a lot to say about using spaced repetition to move items into long-term memory.  I'm currently reading How Learning Happens as a part of a book group.  I'm excited to get into this book and learn more about the research behind learning in general."
   ]
  },
  {
   "cell_type": "code",
   "execution_count": null,
   "id": "15f0e5ca-004b-4ce7-8bf8-294c92c04341",
   "metadata": {},
   "outputs": [],
   "source": []
  }
 ],
 "metadata": {
  "kernelspec": {
   "display_name": "Python 3 (ipykernel)",
   "language": "python",
   "name": "python3"
  },
  "language_info": {
   "codemirror_mode": {
    "name": "ipython",
    "version": 3
   },
   "file_extension": ".py",
   "mimetype": "text/x-python",
   "name": "python",
   "nbconvert_exporter": "python",
   "pygments_lexer": "ipython3",
   "version": "3.9.13"
  }
 },
 "nbformat": 4,
 "nbformat_minor": 5
}
