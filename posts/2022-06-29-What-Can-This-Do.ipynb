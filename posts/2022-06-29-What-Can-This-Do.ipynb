{
 "cells": [
  {
   "cell_type": "raw",
   "metadata": {},
   "source": [
    "---\n",
    "aliases:\n",
    "- /2022/06/29/What-Can-This-Do\n",
    "date: '2022-06-29'\n",
    "description: I'm going to try to test this out a bit\n",
    "output-file: 2022-06-29-what-can-this-do.html\n",
    "title: What can a jupyter notebook blog post do?\n",
    "\n",
    "---\n",
    "\n"
   ]
  },
  {
   "cell_type": "markdown",
   "id": "a9ab72d4",
   "metadata": {},
   "source": [
    "This video has been living rent-free in my head for the past month:\n",
    "\n",
    "> twitter:https://twitter.com/howie_hua/status/1531410501946572800"
   ]
  },
  {
   "cell_type": "markdown",
   "id": "f6703f34",
   "metadata": {},
   "source": [
    "## Can this be applied to examples in physics?\n",
    "\n",
    "I'm thinking of a simple example of 1-dimensional motion for a general education physics class. Instead of having a question like: \"A car accelerates from rest for 9 seconds with an acceleration of 2.6 m/s$^2$. What is the car's final speed? How far did it go?\" I am thinking of asking the question this way:\n",
    "\n",
    "Suppose you are in a car which is stopped at the end of an entrance ramp to an expressway. Your plan is to accelerate to your desired speed and then set the cruise control for the speed you reach while accelerating. Your exit is 150 miles from where you get on to the expressway. Would you rather: \n",
    "\n",
    "a.) accelerate from rest at 2.60 m/s$^2$ for 9.0 seconds\n",
    "\n",
    "OR\n",
    "\n",
    "b.) accelerate from rest at 1.05 m/s$^2$ for 400 meters?"
   ]
  },
  {
   "cell_type": "code",
   "execution_count": null,
   "id": "39fb477e",
   "metadata": {},
   "outputs": [],
   "source": []
  }
 ],
 "metadata": {
  "kernelspec": {
   "display_name": "Python 3",
   "language": "python",
   "name": "python3"
  },
  "language_info": {
   "codemirror_mode": {
    "name": "ipython",
    "version": 3
   },
   "file_extension": ".py",
   "mimetype": "text/x-python",
   "name": "python",
   "nbconvert_exporter": "python",
   "pygments_lexer": "ipython3",
   "version": "3.7.10"
  }
 },
 "nbformat": 4,
 "nbformat_minor": 5
}
