{
 "cells": [
  {
   "cell_type": "raw",
   "id": "9dc0c8df-c555-4079-bae0-d026fff0348e",
   "metadata": {},
   "source": [
    "---\n",
    "title: \"March 16 Quarto Testing\"\n",
    "author: \"Andrew Morrison\"\n",
    "date: \"2023-3-16\"\n",
    "categories: [test]\n",
    "format: gfm\n",
    "jupyter: python3\n",
    "---"
   ]
  },
  {
   "cell_type": "markdown",
   "id": "37debc19-3ab0-40dd-ba07-339b5dd5f9a6",
   "metadata": {},
   "source": [
    "## Back at it\n",
    "\n",
    "This is another test.\n",
    "\n",
    "- List item\n",
    "- Second item\n",
    "- Third"
   ]
  },
  {
   "cell_type": "code",
   "execution_count": null,
   "id": "df8d6315-d673-426d-8e4e-3a146c0a4e7a",
   "metadata": {},
   "outputs": [],
   "source": []
  }
 ],
 "metadata": {
  "kernelspec": {
   "display_name": "Python 3 (ipykernel)",
   "language": "python",
   "name": "python3"
  },
  "language_info": {
   "codemirror_mode": {
    "name": "ipython",
    "version": 3
   },
   "file_extension": ".py",
   "mimetype": "text/x-python",
   "name": "python",
   "nbconvert_exporter": "python",
   "pygments_lexer": "ipython3",
   "version": "3.9.13"
  }
 },
 "nbformat": 4,
 "nbformat_minor": 5
}
